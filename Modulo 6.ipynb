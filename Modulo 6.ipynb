{
 "cells": [
  {
   "cell_type": "markdown",
   "metadata": {},
   "source": [
    "# Ejercicio 1"
   ]
  },
  {
   "cell_type": "code",
   "execution_count": 6,
   "metadata": {},
   "outputs": [
    {
     "name": "stdout",
     "output_type": "stream",
     "text": [
      "hay 9 planetas y el ultimo de ellos es  Pluton\n"
     ]
    }
   ],
   "source": [
    "planets = ['Mercury', 'Venus', 'Earth', 'Mars', 'Jupiter', 'Saturn', 'Uranus', 'Neptune']\n",
    "\n",
    "planets.append('Pluton')\n",
    "nplanets = len(planets)\n",
    "print('hay' ,nplanets, 'planetas y el ultimo de ellos es ' ,planets[nplanets - 1])  "
   ]
  },
  {
   "cell_type": "markdown",
   "metadata": {},
   "source": [
    "# Ejercicio 2"
   ]
  },
  {
   "cell_type": "code",
   "execution_count": 12,
   "metadata": {},
   "outputs": [
    {
     "name": "stdout",
     "output_type": "stream",
     "text": [
      "Los planetas mas cercanos al que elijio el usuario son Earth y Jupiter\n",
      "Los planetas mas cercanos al sol son ['Mercury', 'Venus', 'Earth']\n",
      "Los planetas mas alejados al sol son ['Jupiter', 'Saturn', 'Neptune']\n"
     ]
    }
   ],
   "source": [
    "planets = ['Mercury', 'Venus', 'Earth', 'Mars', 'Jupiter', 'Saturn', 'Neptune']\n",
    "\n",
    "usuario = input('Escribe el nombre del planeta que quieres empezando por mayuscula: ')\n",
    "\n",
    "Usuario_index = planets.index(usuario)\n",
    "\n",
    "print('Los planetas mas cercanos al que elijio el usuario son',planets[Usuario_index-1],'y',planets[Usuario_index+1])\n",
    "\n",
    "print('Los planetas mas cercanos al sol son',planets[0:Usuario_index])\n",
    "print('Los planetas mas alejados al sol son',planets[Usuario_index+1:])"
   ]
  }
 ],
 "metadata": {
  "interpreter": {
   "hash": "b551ced83a010bd33365699f2aa48f8c02fb0f2d44ea9374d714455d253822a1"
  },
  "kernelspec": {
   "display_name": "Python 3.10.2 64-bit",
   "language": "python",
   "name": "python3"
  },
  "language_info": {
   "codemirror_mode": {
    "name": "ipython",
    "version": 3
   },
   "file_extension": ".py",
   "mimetype": "text/x-python",
   "name": "python",
   "nbconvert_exporter": "python",
   "pygments_lexer": "ipython3",
   "version": "3.10.2"
  },
  "orig_nbformat": 4
 },
 "nbformat": 4,
 "nbformat_minor": 2
}
