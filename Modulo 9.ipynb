{
 "cells": [
  {
   "cell_type": "code",
   "execution_count": 19,
   "metadata": {},
   "outputs": [
    {
     "name": "stdout",
     "output_type": "stream",
     "text": [
      "Promedio: 78.33333333333333\n",
      "Tanque 1: 80\n",
      "Tanque 2: 70\n",
      "Tanque 3: 85\n",
      "Promedio: 78.33333333333333\n",
      "Tanque 1: 80\n",
      "Tanque 2: 70\n",
      "Tanque 3: 85\n"
     ]
    }
   ],
   "source": [
    "def info(tanq1, tanq2, tanq3):\n",
    "    prom = (tanq1 + tanq2 + tanq3) / 3\n",
    "    return f'Promedio: {prom}\\nTanque 1: {tanq1}\\nTanque 2: {tanq2}\\nTanque 3: {tanq3}'\n",
    "\n",
    "print(info(80, 70, 85))\n",
    "\n",
    "def promedio(x):\n",
    "    return sum(x) / len(x)\n",
    "\n",
    "promedio([90,80,90])\n",
    "\n",
    "def info(tanq1, tanq2, tanq3):\n",
    "    return f'Promedio: {promedio([tanq1, tanq2, tanq3])}\\nTanque 1: {tanq1}\\nTanque 2: {tanq2}\\nTanque 3: {tanq3}'\n",
    "\n",
    "print(info(80, 70, 85))\n"
   ]
  },
  {
   "cell_type": "code",
   "execution_count": 36,
   "metadata": {},
   "outputs": [
    {
     "name": "stdout",
     "output_type": "stream",
     "text": [
      "\n",
      "    Destino Moon\n",
      "    Tiempo de vuelo: 65 min\n",
      "    Combustible total: 500000 lt\n",
      "    \n",
      "\n",
      "    Destino Moon\n",
      "    Tiempo de vuelo: 65 min\n",
      "    Combustible total: 500000 lt\n",
      "    \n",
      "\n",
      "    Destino Moon\n",
      "    Tiempo de vuelo: 65 min\n",
      "    Combustible total: 500000 lt\n",
      "    \n",
      "Tanque t1: 200000 lts restantes\n",
      "Tanque t2: 300000 lts restantes\n"
     ]
    }
   ],
   "source": [
    "def info(prelanzamiento, vuelo, destino, tanque_externo, tanque_interno):\n",
    "    return f\"\"\"\n",
    "    Destino {destino}\n",
    "    Tiempo de vuelo: {prelanzamiento + vuelo} min\n",
    "    Combustible total: {tanque_externo + tanque_interno} lt\n",
    "    \"\"\"\n",
    "\n",
    "print(info(14, 51, \"Moon\", 200000, 300000))\n",
    "\n",
    "def info(destino, *minutes, **fuel_reservoirs):\n",
    "    return f\"\"\"\n",
    "    Destino {destino}\n",
    "    Tiempo de vuelo: {sum(minutes)} min\n",
    "    Combustible total: {sum(fuel_reservoirs.values())} lt\n",
    "    \"\"\"\n",
    "\n",
    "print(info(\"Moon\" ,14 ,51 ,t1=200000 ,t2=300000))\n",
    "\n",
    "def info(destino, *minutes, **fuel_reservoirs):\n",
    "    datos = f\"\"\"\n",
    "    Destino {destino}\n",
    "    Tiempo de vuelo: {sum(minutes)} min\n",
    "    Combustible total: {sum(fuel_reservoirs.values())} lt\n",
    "    \"\"\"\n",
    "    for tanque, lts in fuel_reservoirs.items():\n",
    "        datos += f\"\\nTanque {tanque}: {lts} lts restantes\"\n",
    "    return datos\n",
    "\n",
    "print(info(\"Moon\" ,14 ,51 ,t1=200000 ,t2=300000))\n"
   ]
  }
 ],
 "metadata": {
  "interpreter": {
   "hash": "b551ced83a010bd33365699f2aa48f8c02fb0f2d44ea9374d714455d253822a1"
  },
  "kernelspec": {
   "display_name": "Python 3.10.2 64-bit",
   "language": "python",
   "name": "python3"
  },
  "language_info": {
   "codemirror_mode": {
    "name": "ipython",
    "version": 3
   },
   "file_extension": ".py",
   "mimetype": "text/x-python",
   "name": "python",
   "nbconvert_exporter": "python",
   "pygments_lexer": "ipython3",
   "version": "3.10.2"
  },
  "orig_nbformat": 4
 },
 "nbformat": 4,
 "nbformat_minor": 2
}
