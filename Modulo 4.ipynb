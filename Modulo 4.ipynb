{
 "cells": [
  {
   "cell_type": "markdown",
   "metadata": {},
   "source": [
    "# Ejercicio 1"
   ]
  },
  {
   "cell_type": "code",
   "execution_count": 13,
   "metadata": {},
   "outputs": [
    {
     "name": "stdout",
     "output_type": "stream",
     "text": [
      " \n",
      "On average, the Moon moves 4cm away from the Earth every year\n",
      "\n",
      " The highest daylig temperature of the Moon is 127 C\n",
      "\n",
      " \n",
      "On average, the Moon moves 4cm away from the Earth every year\n",
      " The highest daylig temperature of the Moon is 127 Celsius\n"
     ]
    }
   ],
   "source": [
    "text = \"\"\"Interesting facts about the Moon. The Moon is Earth's only satellite. There are several interesting facts about the Moon and how it affects life here on Earth. \n",
    "On average, the Moon moves 4cm away from the Earth every year. This yearly drift is not significant enough to cause immediate effects on Earth. The highest daylig temperature of the Moon is 127 C.\"\"\"\n",
    "\n",
    "dtext = text.split('.')\n",
    "\n",
    "palabras = ['average', 'temperature', 'distance']\n",
    "\n",
    "for oracion in dtext:\n",
    "    for busqueda in palabras:\n",
    "        if busqueda in oracion:\n",
    "            print(oracion)\n",
    "            break\n",
    "\n",
    "for oracion in dtext:\n",
    "    for cambio in palabras:\n",
    "        if cambio in oracion:\n",
    "            print(oracion.replace(' C', ' Celsius'))\n",
    "            break"
   ]
  },
  {
   "cell_type": "markdown",
   "metadata": {},
   "source": [
    "# Ejercicio 2"
   ]
  },
  {
   "cell_type": "code",
   "execution_count": 28,
   "metadata": {},
   "outputs": [
    {
     "name": "stdout",
     "output_type": "stream",
     "text": [
      "Informacion Del Planeta Earth\n",
      "--------------------------------------------- \n",
      "Nombre del planeta: Earth \n",
      "Gravedad en Moon: 1.6199999999999999 m/s2 \n",
      " \n",
      "Informacion Del Planeta Earth\n",
      "--------------------------------------------- \n",
      "Nombre del planeta: Earth \n",
      "Gravedad en Moon: 1.6199999999999999 m/s2 \n",
      " \n",
      "\n",
      "Datos de Gravedad sobre: Ganímedes\n",
      "-------------------------------------\n",
      "Nombre del planeta: Marte \n",
      "Gravedad en Ganímedes: 1.4300000000000002 m/s2\n",
      "\n"
     ]
    }
   ],
   "source": [
    "name = \"Moon\"\n",
    "gravity = 0.00162 # in kms\n",
    "planet = \"Earth\"\n",
    "\n",
    "titulo = f'Informacion del planeta {planet}\\n'\n",
    "\n",
    "datos = f\"\"\"{'-'*45} \n",
    "Nombre del planeta: {planet} \n",
    "Gravedad en {name}: {gravity * 1000} m/s2 \n",
    "\"\"\"\n",
    "\n",
    "plantilla = f\"\"\"{titulo.title()}{datos} \"\"\" \n",
    "print(plantilla)\n",
    "\n",
    "planet = 'Marte '\n",
    "gravity  = 0.00143\n",
    "name = 'Ganímedes'\n",
    "\n",
    "print(plantilla)\n",
    "\n",
    "\n",
    "plantilla2 = \"\"\"\n",
    "Datos de Gravedad sobre: {nombre}\n",
    "-------------------------------------\n",
    "Nombre del planeta: {planeta}\n",
    "Gravedad en {nombre}: {gravedad} m/s2\n",
    "\"\"\"\n",
    "\n",
    "print(plantilla2.format(nombre=name, planeta = planet, gravedad = gravity*1000))"
   ]
  }
 ],
 "metadata": {
  "interpreter": {
   "hash": "b551ced83a010bd33365699f2aa48f8c02fb0f2d44ea9374d714455d253822a1"
  },
  "kernelspec": {
   "display_name": "Python 3.10.2 64-bit",
   "language": "python",
   "name": "python3"
  },
  "language_info": {
   "codemirror_mode": {
    "name": "ipython",
    "version": 3
   },
   "file_extension": ".py",
   "mimetype": "text/x-python",
   "name": "python",
   "nbconvert_exporter": "python",
   "pygments_lexer": "ipython3",
   "version": "3.10.2"
  },
  "orig_nbformat": 4
 },
 "nbformat": 4,
 "nbformat_minor": 2
}
