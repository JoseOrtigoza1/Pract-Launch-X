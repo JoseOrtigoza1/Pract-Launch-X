{
 "cells": [
  {
   "cell_type": "markdown",
   "metadata": {},
   "source": [
    "# Problema 1"
   ]
  },
  {
   "cell_type": "code",
   "execution_count": 2,
   "metadata": {},
   "outputs": [
    {
     "name": "stdout",
     "output_type": "stream",
     "text": [
      "Sin problemas el dia de hoy\n"
     ]
    }
   ],
   "source": [
    "v = 25\n",
    "asteroide = 49\n",
    "\n",
    "if asteroide > v:\n",
    "    print(\"Se acerca un asteroide demasiado rápido\")\n",
    "else:\n",
    "    print(\"Sin problemas el dia de hoy\")"
   ]
  },
  {
   "cell_type": "markdown",
   "metadata": {},
   "source": [
    "# Problema 2"
   ]
  },
  {
   "cell_type": "code",
   "execution_count": 3,
   "metadata": {},
   "outputs": [
    {
     "name": "stdout",
     "output_type": "stream",
     "text": [
      "Nada que ver\n"
     ]
    }
   ],
   "source": [
    "v = 20\n",
    "asteroide = 19\n",
    "\n",
    "if asteroide > v:\n",
    "    print(\"Se vera un rayo de luz\")\n",
    "elif asteroide == v:\n",
    "    print(\"Se vera un rayo de luz\")\n",
    "else:\n",
    "    print(\"Nada que ver\")"
   ]
  },
  {
   "cell_type": "markdown",
   "metadata": {},
   "source": [
    "# Problema 3"
   ]
  },
  {
   "cell_type": "code",
   "execution_count": null,
   "metadata": {},
   "outputs": [],
   "source": [
    "v = 25\n",
    "asteroide = 40\n",
    "if v > 25 and asteroide > 25 and asteroide < 1000:\n",
    "    print('Un asteroide se aserca a la tierra')\n",
    "elif v >= 20:\n",
    "    print('Se vera un rayo de luz')\n",
    "elif asteroide < 25:\n",
    "    print('Asteroide destruido')\n",
    "else:\n",
    "    print('Nada que ver')"
   ]
  }
 ],
 "metadata": {
  "interpreter": {
   "hash": "b551ced83a010bd33365699f2aa48f8c02fb0f2d44ea9374d714455d253822a1"
  },
  "kernelspec": {
   "display_name": "Python 3.10.2 64-bit",
   "language": "python",
   "name": "python3"
  },
  "language_info": {
   "codemirror_mode": {
    "name": "ipython",
    "version": 3
   },
   "file_extension": ".py",
   "mimetype": "text/x-python",
   "name": "python",
   "nbconvert_exporter": "python",
   "pygments_lexer": "ipython3",
   "version": "3.10.2"
  },
  "orig_nbformat": 4
 },
 "nbformat": 4,
 "nbformat_minor": 2
}
