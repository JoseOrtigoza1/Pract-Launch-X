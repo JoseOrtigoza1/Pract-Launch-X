{
 "cells": [
  {
   "cell_type": "markdown",
   "metadata": {},
   "source": [
    "# Ejercicio 1"
   ]
  },
  {
   "cell_type": "code",
   "execution_count": 2,
   "metadata": {},
   "outputs": [
    {
     "name": "stdout",
     "output_type": "stream",
     "text": [
      "La distancia entre la tierra y jupiter es de 628949330\n",
      "En millas es 390577533.93\n"
     ]
    }
   ],
   "source": [
    "tierra = 149597870 \n",
    "jupiter = 778547200\n",
    "\n",
    "distancia = jupiter - tierra\n",
    "dmillas = distancia * 0.621\n",
    "\n",
    "print(f'La distancia entre la tierra y jupiter es de {distancia}\\nEn millas es {dmillas}')"
   ]
  },
  {
   "cell_type": "markdown",
   "metadata": {},
   "source": [
    "# Ejercicio 2"
   ]
  },
  {
   "cell_type": "code",
   "execution_count": 5,
   "metadata": {},
   "outputs": [
    {
     "name": "stdout",
     "output_type": "stream",
     "text": [
      "La distancia en km es 1\n",
      "La distancia en millas es 0.621\n"
     ]
    }
   ],
   "source": [
    "planeta1 = input(\"¿Cuál es la distancia en km del primer planeta?\")\n",
    "planeta2 = input(\"¿Cuál es la distancia en km del segundo planeta?\")\n",
    "\n",
    "planeta1 = int(planeta1)\n",
    "planeta2 = int(planeta2)\n",
    "\n",
    "distancia = planeta1 - planeta2\n",
    "\n",
    "print('La distancia en km es ' + str(abs(distancia)))\n",
    "print('La distancia en millas es ' + str(abs(distancia * 0.621)))\n"
   ]
  }
 ],
 "metadata": {
  "interpreter": {
   "hash": "b551ced83a010bd33365699f2aa48f8c02fb0f2d44ea9374d714455d253822a1"
  },
  "kernelspec": {
   "display_name": "Python 3.10.2 64-bit",
   "language": "python",
   "name": "python3"
  },
  "language_info": {
   "codemirror_mode": {
    "name": "ipython",
    "version": 3
   },
   "file_extension": ".py",
   "mimetype": "text/x-python",
   "name": "python",
   "nbconvert_exporter": "python",
   "pygments_lexer": "ipython3",
   "version": "3.10.2"
  },
  "orig_nbformat": 4
 },
 "nbformat": 4,
 "nbformat_minor": 2
}
